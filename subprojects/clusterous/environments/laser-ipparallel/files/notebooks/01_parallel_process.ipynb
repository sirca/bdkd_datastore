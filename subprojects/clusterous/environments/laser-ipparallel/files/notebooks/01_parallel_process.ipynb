{
 "cells": [
  {
   "cell_type": "code",
   "execution_count": 3,
   "metadata": {
    "collapsed": false
   },
   "outputs": [
    {
     "name": "stdout",
     "output_type": "stream",
     "text": [
      "Parallel process: 4\n"
     ]
    }
   ],
   "source": [
    "from ipyparallel import Client\n",
    "profile_dir = \"/home/data/files/profile\"\n",
    "rc = Client(profile_dir=profile_dir)\n",
    "\n",
    "print \"Parallel process: {0} {1}\".format(len(rc.ids), rc.ids)\n"
   ]
  },
  {
   "cell_type": "code",
   "execution_count": 4,
   "metadata": {
    "collapsed": false
   },
   "outputs": [
    {
     "name": "stdout",
     "output_type": "stream",
     "text": [
      "importing os on engine(s)\n",
      "importing __doc__ from posix on engine(s)\n",
      "importing Again from zmq.error on engine(s)\n",
      "importing strerror,zmq_errno from zmq.backend on engine(s)\n",
      "[72, 73, 73, 67]\n"
     ]
    }
   ],
   "source": [
    "dview = rc.direct_view()\n",
    "with dview.sync_imports():\n",
    "    import os\n",
    "    \n",
    "    dview.block=True\n",
    "    pids = dview.apply(os.getpid)\n",
    "    dview.block=False\n",
    "    ar = dview.apply(os.getpid)\n",
    "    dview.wait(ar)\n",
    "    pids = ar.get()\n",
    "    print pids"
   ]
  },
  {
   "cell_type": "code",
   "execution_count": null,
   "metadata": {
    "collapsed": true
   },
   "outputs": [],
   "source": []
  }
 ],
 "metadata": {
  "kernelspec": {
   "display_name": "Python 2",
   "language": "python",
   "name": "python2"
  },
  "language_info": {
   "codemirror_mode": {
    "name": "ipython",
    "version": 2
   },
   "file_extension": ".py",
   "mimetype": "text/x-python",
   "name": "python",
   "nbconvert_exporter": "python",
   "pygments_lexer": "ipython2",
   "version": "2.7.9"
  }
 },
 "nbformat": 4,
 "nbformat_minor": 0
}
