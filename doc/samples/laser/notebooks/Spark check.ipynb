{
 "metadata": {
  "name": "",
  "signature": "sha256:62862c4aacb6ea377faefe7248f81a99bbba43f3994936ee53d57ea49876ffde"
 },
 "nbformat": 3,
 "nbformat_minor": 0,
 "worksheets": [
  {
   "cells": [
    {
     "cell_type": "heading",
     "level": 1,
     "metadata": {},
     "source": [
      "Spark integration"
     ]
    },
    {
     "cell_type": "markdown",
     "metadata": {},
     "source": [
      "    If iPython is launched from pyspark, a Spark context (sc) should be available."
     ]
    },
    {
     "cell_type": "code",
     "collapsed": false,
     "input": [
      "sc"
     ],
     "language": "python",
     "metadata": {},
     "outputs": [
      {
       "metadata": {},
       "output_type": "pyout",
       "prompt_number": 1,
       "text": [
        "<pyspark.context.SparkContext at 0x7f2228049710>"
       ]
      }
     ],
     "prompt_number": 1
    },
    {
     "cell_type": "markdown",
     "metadata": {},
     "source": [
      "This is a simple parallel operation that runs on the cluster.  If this works, pyspark and your cluster are ready!"
     ]
    },
    {
     "cell_type": "code",
     "collapsed": false,
     "input": [
      "sc.parallelize(range(1000)).count()"
     ],
     "language": "python",
     "metadata": {},
     "outputs": [
      {
       "metadata": {},
       "output_type": "pyout",
       "prompt_number": 2,
       "text": [
        "1000"
       ]
      }
     ],
     "prompt_number": 2
    },
    {
     "cell_type": "code",
     "collapsed": false,
     "input": [],
     "language": "python",
     "metadata": {},
     "outputs": []
    }
   ],
   "metadata": {}
  }
 ]
}